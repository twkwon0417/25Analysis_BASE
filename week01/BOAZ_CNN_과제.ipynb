{
 "cells": [
  {
   "cell_type": "code",
   "metadata": {
    "executionInfo": {
     "elapsed": 6106,
     "status": "ok",
     "timestamp": 1715496376915,
     "user": {
      "displayName": "Ki Di",
      "userId": "11388083629378020019"
     },
     "user_tz": -540
    },
    "id": "gaXvKTIYi6r6",
    "ExecuteTime": {
     "end_time": "2025-07-22T14:18:45.778743Z",
     "start_time": "2025-07-22T14:18:43.178586Z"
    }
   },
   "source": [
    "# 그럼 첫번째 레슨 : 라이브러리 불러오기\n",
    "\n",
    "#필요한 딥러닝 관련 라이브러리를 불러옵니다.\n",
    "\n",
    "import tensorflow as tf\n",
    "from tensorflow.keras import datasets, layers, models\n",
    "import matplotlib.pyplot as plt"
   ],
   "outputs": [],
   "execution_count": 2
  },
  {
   "cell_type": "code",
   "metadata": {
    "colab": {
     "base_uri": "https://localhost:8080/"
    },
    "executionInfo": {
     "elapsed": 5481,
     "status": "ok",
     "timestamp": 1715496384750,
     "user": {
      "displayName": "Ki Di",
      "userId": "11388083629378020019"
     },
     "user_tz": -540
    },
    "id": "JQ4PgaVJjDaZ",
    "outputId": "ade51911-b92c-482c-9734-04f47b24fe54",
    "ExecuteTime": {
     "end_time": "2025-07-22T14:19:40.516851Z",
     "start_time": "2025-07-22T14:18:46.336923Z"
    }
   },
   "source": [
    "# 🗂️ Step 2: 데이터 불러오기\n",
    "\n",
    "#CIFAR-10 데이터셋을 불러오고, 학습용/테스트용으로 분리합니다.\n",
    "\n",
    "(train_images, train_labels), (test_images, test_labels) = datasets.cifar10.load_data()\n"
   ],
   "outputs": [
    {
     "name": "stdout",
     "output_type": "stream",
     "text": [
      "Downloading data from https://www.cs.toronto.edu/~kriz/cifar-10-python.tar.gz\n",
      "\u001B[1m170498071/170498071\u001B[0m \u001B[32m━━━━━━━━━━━━━━━━━━━━\u001B[0m\u001B[37m\u001B[0m \u001B[1m52s\u001B[0m 0us/step\n"
     ]
    }
   ],
   "execution_count": 3
  },
  {
   "cell_type": "markdown",
   "metadata": {},
   "source": [
    "## 과제1. 데이터의 구조를 살펴보세요. 사이즈는?"
   ]
  },
  {
   "cell_type": "code",
   "metadata": {
    "ExecuteTime": {
     "end_time": "2025-07-22T14:29:54.455803Z",
     "start_time": "2025-07-22T14:29:54.450743Z"
    }
   },
   "source": [
    "type(train_images)\n",
    "print(train_images.shape)\n",
    "print(train_labels.shape)\n",
    "print(train_images.dtype)\n",
    "print(train_labels.dtype)\n",
    "\n",
    "print(test_images.shape)\n",
    "print(test_labels.shape)"
   ],
   "outputs": [
    {
     "name": "stdout",
     "output_type": "stream",
     "text": [
      "(50000, 32, 32, 3)\n",
      "(50000, 1)\n",
      "uint8\n",
      "uint8\n",
      "(10000, 32, 32, 3)\n",
      "(10000, 1)\n"
     ]
    }
   ],
   "execution_count": 8
  },
  {
   "cell_type": "code",
   "execution_count": null,
   "metadata": {
    "colab": {
     "base_uri": "https://localhost:8080/",
     "height": 672
    },
    "executionInfo": {
     "elapsed": 4322,
     "status": "ok",
     "timestamp": 1715496406434,
     "user": {
      "displayName": "Ki Di",
      "userId": "11388083629378020019"
     },
     "user_tz": -540
    },
    "id": "SvdfBtPFjLhm",
    "outputId": "2b6591a8-9efa-42fd-8acd-9edddbcd947c"
   },
   "outputs": [],
   "source": [
    "# 🏷️ Step 3: 클래스 이름 정의\n",
    "\n",
    "#CIFAR-10의 라벨은 숫자로 되어 있으므로, 사람이 이해할 수 있도록 이름을 부여합니다.\n",
    "class_names = ['airplane', 'automobile', 'bird', 'cat', 'deer',\n",
    "               'dog', 'frog', 'horse', 'ship', 'truck']"
   ]
  },
  {
   "cell_type": "markdown",
   "metadata": {},
   "source": [
    "## 과제2. 아래 코드의 빈칸을 채워 CNN 모델을 완성해보세요. \n",
    "#### layer나 패딩 혹은 drop out, batch normalization을 추가해 가며 모델의 정확도 변화를 보는 것도 좋습니다."
   ]
  },
  {
   "cell_type": "code",
   "execution_count": null,
   "metadata": {
    "executionInfo": {
     "elapsed": 2048,
     "status": "ok",
     "timestamp": 1715496498864,
     "user": {
      "displayName": "Ki Di",
      "userId": "11388083629378020019"
     },
     "user_tz": -540
    },
    "id": "b6KfEI2ljboP"
   },
   "outputs": [],
   "source": [
    "# 🧱 Step 4: CNN 모델 구성\n",
    "# Convolution → MaxPooling → Flatten → Dense 구조로 CNN을 설계합니다.\n",
    "# 아래의 빈칸 (___)을 채워 모델을 완성해보세요.\n",
    "\n",
    "model = models.Sequential()\n",
    "\n",
    "# 첫 번째 합성곱 레이어\n",
    "model.add(layers.Conv2D(___, (3, 3), activation='relu', input_shape=(32, 32, 3)))  # TODO: 커널 개수 설정\n",
    "\n",
    "# 첫 번째 풀링 레이어\n",
    "model.add(layers.MaxPooling2D((___, ___)))  # TODO: 풀링 크기 설정\n",
    "\n",
    "# 두 번째 합성곱 레이어\n",
    "model.add(layers.Conv2D(64, (___, ___), activation='relu'))  # TODO: 커널 크기 설정\n",
    "\n",
    "# 두 번째 풀링 레이어\n",
    "model.add(layers.MaxPooling2D((2, 2)))\n",
    "\n",
    "# 세 번째 합성곱 레이어\n",
    "model.add(layers.Conv2D(___, (3, 3), activation='relu'))  # TODO: 커널 개수 설정\n",
    "\n",
    "# Flatten + Fully Connected Layer\n",
    "model.add(layers.Flatten())\n",
    "model.add(layers.Dense(___))  # TODO: 은닉층 유닛 수 설정\n",
    "model.add(layers.Dense(10))  # 출력층: CIFAR-10은 클래스가 10개"
   ]
  },
  {
   "cell_type": "markdown",
   "metadata": {},
   "source": [
    "## 자신이 채운 코드를 기반으로 각 레이어별 Feature Map 크기를 계산해 보세요. \n",
    "(padding은 디폴트로 없습니다.)"
   ]
  },
  {
   "cell_type": "markdown",
   "metadata": {},
   "source": [
    "Answer:"
   ]
  },
  {
   "cell_type": "code",
   "execution_count": null,
   "metadata": {
    "colab": {
     "base_uri": "https://localhost:8080/"
    },
    "executionInfo": {
     "elapsed": 87492,
     "status": "ok",
     "timestamp": 1715496826651,
     "user": {
      "displayName": "Ki Di",
      "userId": "11388083629378020019"
     },
     "user_tz": -540
    },
    "id": "e5GLqIzikILD",
    "outputId": "9eb72adf-635d-43c6-a577-f8a67a3556d0"
   },
   "outputs": [],
   "source": [
    "# ⚙️ Step 5: 모델 컴파일\n",
    "\n",
    "#모델을 학습할 수 있도록 컴파일합니다. 손실 함수, 최적화 방법, 평가지표를 설정합니다.\n",
    "\n",
    "model.compile(optimizer='adam',\n",
    "              loss=tf.keras.losses.SparseCategoricalCrossentropy(from_logits=True),\n",
    "              metrics=['accuracy'])"
   ]
  },
  {
   "cell_type": "code",
   "execution_count": null,
   "metadata": {},
   "outputs": [],
   "source": [
    "# 🔥 Step 6: 모델 학습 및 성능 평가\n",
    "\n",
    "history = model.fit(train_images, train_labels, epochs=10,\n",
    "                    validation_data=(test_images, test_labels))\n",
    "#모델 성능 평가\n",
    "plt.plot(history.history['accuracy'],label='accuracy')\n",
    "plt.plot(history.history['val_accuracy'],label = 'val_accuracy')\n",
    "plt.xlabel('Epoch')\n",
    "plt.ylabel('Accuracy')\n",
    "plt.ylim([0.5, 1])\n",
    "plt.legend(loc='lower right')\n",
    "\n",
    "test_loss, test_acc = model.evaluate(test_images,\n",
    "                                     test_labels,\n",
    "                                     verbose=2)\n"
   ]
  },
  {
   "cell_type": "code",
   "execution_count": null,
   "metadata": {
    "colab": {
     "base_uri": "https://localhost:8080/"
    },
    "executionInfo": {
     "elapsed": 309,
     "status": "ok",
     "timestamp": 1715496854691,
     "user": {
      "displayName": "Ki Di",
      "userId": "11388083629378020019"
     },
     "user_tz": -540
    },
    "id": "Cc2Uh7qqlGAi",
    "outputId": "9169ed3f-ecbf-4598-83fc-ea11f56d8775"
   },
   "outputs": [],
   "source": [
    "print('Test Accuracy is',test_acc)"
   ]
  },
  {
   "cell_type": "markdown",
   "metadata": {},
   "source": [
    "## 과제3. 직접사용해 보기. 이미지를 로드하고 cifar-10의 사이즈로 리사이즈"
   ]
  },
  {
   "cell_type": "code",
   "execution_count": null,
   "metadata": {
    "id": "Ka8GtI6ElKA2"
   },
   "outputs": [],
   "source": [
    "import numpy as np\n",
    "from tensorflow.keras.preprocessing import image\n",
    "\n",
    "# 새 이미지를 로드하고 모델 예측 수행\n",
    "def predict_new_image(image_path, model, class_names):\n",
    "    # 이미지 로드 및 전처리\n",
    "    img = image.load_img(image_path, target_size=())  # CIFAR-10 크기로 리사이즈 빈칸채우기\n",
    "    img_array = image.img_to_array(img)  # 이미지를 배열로 변환\n",
    "    img_array = np.expand_dims(img_array, axis=0)  # 배치를 위해 차원 추가\n",
    "    img_array = img_array / 255.0  # 정규화 \n",
    "\n",
    "    # 예측 수행\n",
    "    predictions = model.predict(img_array)\n",
    "    predicted_class = np.argmax(predictions)  # 가장 높은 확률의 클래스 인덱스\n",
    "    class_name = class_names[predicted_class]  # 클래스 이름\n",
    "\n",
    "    # 결과 출력\n",
    "    plt.imshow(img)\n",
    "    plt.title(f\"Predicted: {class_name}\")\n",
    "    plt.axis('off')\n",
    "    plt.show()\n",
    "\n",
    "# 사용 예시\n",
    "image_path =  # 예측할 이미지의 경로 절대경로를 입력하면 됩니다. 뭔가 자신의 얼굴사진을 넣어보면 재미있는일이...\n",
    "predict_new_image(image_path, model, class_names)\n"
   ]
  },
  {
   "cell_type": "markdown",
   "metadata": {},
   "source": [
    "## 왜 255.0으로 나누었을까요? 이미지 전처리에 대한 지식이니 조사해보세요."
   ]
  },
  {
   "cell_type": "markdown",
   "metadata": {},
   "source": [
    "Answer: "
   ]
  },
  {
   "cell_type": "markdown",
   "metadata": {},
   "source": [
    "## 과제4. CNN의 inductive bias에 대해서 조사를 해보고 생각해 봅시다.\n",
    "### CNN은 왜 이미지 처리에 좋을까요? 이미지 말고도 CNN을 잘 쓸 수 있는데는 어디일까요?"
   ]
  },
  {
   "cell_type": "markdown",
   "metadata": {},
   "source": [
    "Answer: "
   ]
  }
 ],
 "metadata": {
  "accelerator": "GPU",
  "colab": {
   "authorship_tag": "ABX9TyN8CYc8ZH9vkV2j3L9Mb357",
   "gpuType": "T4",
   "provenance": []
  },
  "kernelspec": {
   "display_name": "Python 3",
   "name": "python3"
  },
  "language_info": {
   "codemirror_mode": {
    "name": "ipython",
    "version": 3
   },
   "file_extension": ".py",
   "mimetype": "text/x-python",
   "name": "python",
   "nbconvert_exporter": "python",
   "pygments_lexer": "ipython3",
   "version": "3.11.9"
  }
 },
 "nbformat": 4,
 "nbformat_minor": 0
}
